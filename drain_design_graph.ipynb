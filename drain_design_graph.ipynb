{
  "nbformat": 4,
  "nbformat_minor": 0,
  "metadata": {
    "colab": {
      "provenance": [],
      "authorship_tag": "ABX9TyONMFLnxSjQUUgfPnQ+IYDN"
    },
    "kernelspec": {
      "name": "python3",
      "display_name": "Python 3"
    },
    "language_info": {
      "name": "python"
    }
  },
  "cells": [
    {
      "cell_type": "code",
      "execution_count": null,
      "metadata": {
        "id": "zyCPIZaRVgwF"
      },
      "outputs": [],
      "source": [
        "import pandas as pd\n",
        "import numpy as np\n",
        "from matplotlib import pyplot as plt"
      ]
    },
    {
      "cell_type": "code",
      "source": [
        "\n",
        "df= pd.read_excel('CALCULATION.xlsx',sheet_name=3, skiprows=[0])\n",
        "df.head()"
      ],
      "metadata": {
        "colab": {
          "base_uri": "https://localhost:8080/",
          "height": 205
        },
        "id": "eq3GN7xGZxfg",
        "outputId": "b3cb4cbf-97ba-4844-be18-862e940eec9b"
      },
      "execution_count": null,
      "outputs": [
        {
          "output_type": "execute_result",
          "data": {
            "text/plain": [
              "   Q (m3/s)  w=6ft: Total Depth, d (ft)  w=6.5 ft: Total Depth, d (ft)  \\\n",
              "0      8.20                    8.966798                       8.154195   \n",
              "1      9.57                   10.155569                       9.215525   \n",
              "2     10.72                   11.155608                      10.099389   \n",
              "\n",
              "   w=7 ft: Total Depth, d (ft)  w=7.5 ft: Total Depth, d (ft)  \\\n",
              "0                     7.501196                       6.961603   \n",
              "1                     8.452298                       7.822767   \n",
              "2                     9.243016                       8.536003   \n",
              "\n",
              "   w=8 ft: Total Depth, d (ft)  \n",
              "0                     6.509783  \n",
              "1                     7.295835  \n",
              "2                     7.947243  "
            ],
            "text/html": [
              "\n",
              "  <div id=\"df-2708266d-3940-4fe2-944a-6cee538e7b45\">\n",
              "    <div class=\"colab-df-container\">\n",
              "      <div>\n",
              "<style scoped>\n",
              "    .dataframe tbody tr th:only-of-type {\n",
              "        vertical-align: middle;\n",
              "    }\n",
              "\n",
              "    .dataframe tbody tr th {\n",
              "        vertical-align: top;\n",
              "    }\n",
              "\n",
              "    .dataframe thead th {\n",
              "        text-align: right;\n",
              "    }\n",
              "</style>\n",
              "<table border=\"1\" class=\"dataframe\">\n",
              "  <thead>\n",
              "    <tr style=\"text-align: right;\">\n",
              "      <th></th>\n",
              "      <th>Q (m3/s)</th>\n",
              "      <th>w=6ft: Total Depth, d (ft)</th>\n",
              "      <th>w=6.5 ft: Total Depth, d (ft)</th>\n",
              "      <th>w=7 ft: Total Depth, d (ft)</th>\n",
              "      <th>w=7.5 ft: Total Depth, d (ft)</th>\n",
              "      <th>w=8 ft: Total Depth, d (ft)</th>\n",
              "    </tr>\n",
              "  </thead>\n",
              "  <tbody>\n",
              "    <tr>\n",
              "      <th>0</th>\n",
              "      <td>8.20</td>\n",
              "      <td>8.966798</td>\n",
              "      <td>8.154195</td>\n",
              "      <td>7.501196</td>\n",
              "      <td>6.961603</td>\n",
              "      <td>6.509783</td>\n",
              "    </tr>\n",
              "    <tr>\n",
              "      <th>1</th>\n",
              "      <td>9.57</td>\n",
              "      <td>10.155569</td>\n",
              "      <td>9.215525</td>\n",
              "      <td>8.452298</td>\n",
              "      <td>7.822767</td>\n",
              "      <td>7.295835</td>\n",
              "    </tr>\n",
              "    <tr>\n",
              "      <th>2</th>\n",
              "      <td>10.72</td>\n",
              "      <td>11.155608</td>\n",
              "      <td>10.099389</td>\n",
              "      <td>9.243016</td>\n",
              "      <td>8.536003</td>\n",
              "      <td>7.947243</td>\n",
              "    </tr>\n",
              "  </tbody>\n",
              "</table>\n",
              "</div>\n",
              "      <button class=\"colab-df-convert\" onclick=\"convertToInteractive('df-2708266d-3940-4fe2-944a-6cee538e7b45')\"\n",
              "              title=\"Convert this dataframe to an interactive table.\"\n",
              "              style=\"display:none;\">\n",
              "        \n",
              "  <svg xmlns=\"http://www.w3.org/2000/svg\" height=\"24px\"viewBox=\"0 0 24 24\"\n",
              "       width=\"24px\">\n",
              "    <path d=\"M0 0h24v24H0V0z\" fill=\"none\"/>\n",
              "    <path d=\"M18.56 5.44l.94 2.06.94-2.06 2.06-.94-2.06-.94-.94-2.06-.94 2.06-2.06.94zm-11 1L8.5 8.5l.94-2.06 2.06-.94-2.06-.94L8.5 2.5l-.94 2.06-2.06.94zm10 10l.94 2.06.94-2.06 2.06-.94-2.06-.94-.94-2.06-.94 2.06-2.06.94z\"/><path d=\"M17.41 7.96l-1.37-1.37c-.4-.4-.92-.59-1.43-.59-.52 0-1.04.2-1.43.59L10.3 9.45l-7.72 7.72c-.78.78-.78 2.05 0 2.83L4 21.41c.39.39.9.59 1.41.59.51 0 1.02-.2 1.41-.59l7.78-7.78 2.81-2.81c.8-.78.8-2.07 0-2.86zM5.41 20L4 18.59l7.72-7.72 1.47 1.35L5.41 20z\"/>\n",
              "  </svg>\n",
              "      </button>\n",
              "      \n",
              "  <style>\n",
              "    .colab-df-container {\n",
              "      display:flex;\n",
              "      flex-wrap:wrap;\n",
              "      gap: 12px;\n",
              "    }\n",
              "\n",
              "    .colab-df-convert {\n",
              "      background-color: #E8F0FE;\n",
              "      border: none;\n",
              "      border-radius: 50%;\n",
              "      cursor: pointer;\n",
              "      display: none;\n",
              "      fill: #1967D2;\n",
              "      height: 32px;\n",
              "      padding: 0 0 0 0;\n",
              "      width: 32px;\n",
              "    }\n",
              "\n",
              "    .colab-df-convert:hover {\n",
              "      background-color: #E2EBFA;\n",
              "      box-shadow: 0px 1px 2px rgba(60, 64, 67, 0.3), 0px 1px 3px 1px rgba(60, 64, 67, 0.15);\n",
              "      fill: #174EA6;\n",
              "    }\n",
              "\n",
              "    [theme=dark] .colab-df-convert {\n",
              "      background-color: #3B4455;\n",
              "      fill: #D2E3FC;\n",
              "    }\n",
              "\n",
              "    [theme=dark] .colab-df-convert:hover {\n",
              "      background-color: #434B5C;\n",
              "      box-shadow: 0px 1px 3px 1px rgba(0, 0, 0, 0.15);\n",
              "      filter: drop-shadow(0px 1px 2px rgba(0, 0, 0, 0.3));\n",
              "      fill: #FFFFFF;\n",
              "    }\n",
              "  </style>\n",
              "\n",
              "      <script>\n",
              "        const buttonEl =\n",
              "          document.querySelector('#df-2708266d-3940-4fe2-944a-6cee538e7b45 button.colab-df-convert');\n",
              "        buttonEl.style.display =\n",
              "          google.colab.kernel.accessAllowed ? 'block' : 'none';\n",
              "\n",
              "        async function convertToInteractive(key) {\n",
              "          const element = document.querySelector('#df-2708266d-3940-4fe2-944a-6cee538e7b45');\n",
              "          const dataTable =\n",
              "            await google.colab.kernel.invokeFunction('convertToInteractive',\n",
              "                                                     [key], {});\n",
              "          if (!dataTable) return;\n",
              "\n",
              "          const docLinkHtml = 'Like what you see? Visit the ' +\n",
              "            '<a target=\"_blank\" href=https://colab.research.google.com/notebooks/data_table.ipynb>data table notebook</a>'\n",
              "            + ' to learn more about interactive tables.';\n",
              "          element.innerHTML = '';\n",
              "          dataTable['output_type'] = 'display_data';\n",
              "          await google.colab.output.renderOutput(dataTable, element);\n",
              "          const docLink = document.createElement('div');\n",
              "          docLink.innerHTML = docLinkHtml;\n",
              "          element.appendChild(docLink);\n",
              "        }\n",
              "      </script>\n",
              "    </div>\n",
              "  </div>\n",
              "  "
            ]
          },
          "metadata": {},
          "execution_count": 24
        }
      ]
    },
    {
      "cell_type": "code",
      "source": [
        "plt.rcParams[\"figure.figsize\"] = [6,4]\n",
        "plt.rcParams[\"figure.autolayout\"] = True\n",
        "fig, ax = plt.subplots(1,1, squeeze= True)\n",
        "\n",
        "ax.plot(df['Q (m3/s)'],df['w=6ft: Total Depth, d (ft)'],'-D', label='6 ft')\n",
        "ax.plot(df['Q (m3/s)'],df['w=6.5 ft: Total Depth, d (ft)'],'-D', label='6.5 ft')\n",
        "ax.plot(df['Q (m3/s)'],df['w=7 ft: Total Depth, d (ft)'],'-D', label='7 ft')\n",
        "ax.plot(df['Q (m3/s)'],df['w=7.5 ft: Total Depth, d (ft)'],'-D', label='7.5 ft')\n",
        "ax.plot(df['Q (m3/s)'],df['w=8 ft: Total Depth, d (ft)'],'-D', label='8 ft')\n",
        "\n",
        "# plt.yticks(np.arange(50,300,25))\n",
        "plt.title(\"Drain-1 (Rectangular): Subcatchment-1\")\n",
        "plt.xlabel('Flow (cumec)')\n",
        "plt.ylabel('Normal Depth (ft)')\n",
        "plt.grid(visible = True, axis = 'y',  alpha = 0.6)\n",
        "handles, labels = ax.get_legend_handles_labels()\n",
        "fig.legend(handles, labels, loc=(0.1,0.65))\n",
        "#plt.legend()\n",
        "plt.tight_layout()\n",
        "plt.savefig(\"Drain-1 (Rectangular): Subcatchment-1.tiff\", dpi=500)"
      ],
      "metadata": {
        "colab": {
          "base_uri": "https://localhost:8080/",
          "height": 297
        },
        "id": "WpF9B6CsW9Cp",
        "outputId": "609c263f-43cf-4b14-aad0-52dcaac63d36"
      },
      "execution_count": null,
      "outputs": [
        {
          "output_type": "display_data",
          "data": {
            "text/plain": [
              "<Figure size 432x288 with 1 Axes>"
            ],
            "image/png": "[encoded data removed]"
          },
          "metadata": {
            "needs_background": "light"
          }
        }
      ]
    },
    {
      "cell_type": "code",
      "source": [],
      "metadata": {
        "id": "kWs5Gus9nffF"
      },
      "execution_count": null,
      "outputs": []
    }
  ]
}